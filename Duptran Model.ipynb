{
 "cells": [
  {
   "cell_type": "code",
   "execution_count": 72,
   "metadata": {
    "collapsed": false
   },
   "outputs": [],
   "source": [
    "import pandas as pd\n",
    "import numpy as np\n",
    "data = pd.read_csv('C:/Users/ASUS/Documents/Python_Scripts/sampleData.csv', sep = \",\")\n"
   ]
  },
  {
   "cell_type": "code",
   "execution_count": 73,
   "metadata": {
    "collapsed": false
   },
   "outputs": [
    {
     "data": {
      "text/html": [
       "<div>\n",
       "<table border=\"1\" class=\"dataframe\">\n",
       "  <thead>\n",
       "    <tr style=\"text-align: right;\">\n",
       "      <th></th>\n",
       "      <th>key</th>\n",
       "      <th>vendor</th>\n",
       "      <th>tran_date</th>\n",
       "      <th>Inv_amt</th>\n",
       "      <th>seqno</th>\n",
       "    </tr>\n",
       "  </thead>\n",
       "  <tbody>\n",
       "    <tr>\n",
       "      <th>0</th>\n",
       "      <td>A</td>\n",
       "      <td>alpha</td>\n",
       "      <td>2/21/2017</td>\n",
       "      <td>100</td>\n",
       "      <td>1</td>\n",
       "    </tr>\n",
       "    <tr>\n",
       "      <th>1</th>\n",
       "      <td>A</td>\n",
       "      <td>alpha</td>\n",
       "      <td>2/21/2017</td>\n",
       "      <td>100</td>\n",
       "      <td>2</td>\n",
       "    </tr>\n",
       "    <tr>\n",
       "      <th>2</th>\n",
       "      <td>A</td>\n",
       "      <td>alpha</td>\n",
       "      <td>2/14/2017</td>\n",
       "      <td>50</td>\n",
       "      <td>3</td>\n",
       "    </tr>\n",
       "    <tr>\n",
       "      <th>3</th>\n",
       "      <td>B</td>\n",
       "      <td>alpha</td>\n",
       "      <td>2/21/2017</td>\n",
       "      <td>150</td>\n",
       "      <td>4</td>\n",
       "    </tr>\n",
       "    <tr>\n",
       "      <th>4</th>\n",
       "      <td>B</td>\n",
       "      <td>alpha</td>\n",
       "      <td>2/21/2017</td>\n",
       "      <td>300</td>\n",
       "      <td>5</td>\n",
       "    </tr>\n",
       "    <tr>\n",
       "      <th>5</th>\n",
       "      <td>C</td>\n",
       "      <td>alpha</td>\n",
       "      <td>1/31/2017</td>\n",
       "      <td>20</td>\n",
       "      <td>6</td>\n",
       "    </tr>\n",
       "  </tbody>\n",
       "</table>\n",
       "</div>"
      ],
      "text/plain": [
       "  key vendor  tran_date  Inv_amt  seqno\n",
       "0   A  alpha  2/21/2017      100      1\n",
       "1   A  alpha  2/21/2017      100      2\n",
       "2   A  alpha  2/14/2017       50      3\n",
       "3   B  alpha  2/21/2017      150      4\n",
       "4   B  alpha  2/21/2017      300      5\n",
       "5   C  alpha  1/31/2017       20      6"
      ]
     },
     "execution_count": 73,
     "metadata": {},
     "output_type": "execute_result"
    }
   ],
   "source": [
    "data"
   ]
  },
  {
   "cell_type": "code",
   "execution_count": 74,
   "metadata": {
    "collapsed": false
   },
   "outputs": [
    {
     "data": {
      "text/html": [
       "<div>\n",
       "<table border=\"1\" class=\"dataframe\">\n",
       "  <thead>\n",
       "    <tr style=\"text-align: right;\">\n",
       "      <th></th>\n",
       "      <th>key</th>\n",
       "      <th>vendor</th>\n",
       "      <th>tran_date</th>\n",
       "      <th>Inv_amt</th>\n",
       "      <th>seqno</th>\n",
       "    </tr>\n",
       "  </thead>\n",
       "  <tbody>\n",
       "    <tr>\n",
       "      <th>0</th>\n",
       "      <td>A</td>\n",
       "      <td>alpha</td>\n",
       "      <td>2/21/2017</td>\n",
       "      <td>100</td>\n",
       "      <td>1</td>\n",
       "    </tr>\n",
       "    <tr>\n",
       "      <th>1</th>\n",
       "      <td>A</td>\n",
       "      <td>alpha</td>\n",
       "      <td>2/21/2017</td>\n",
       "      <td>100</td>\n",
       "      <td>2</td>\n",
       "    </tr>\n",
       "    <tr>\n",
       "      <th>3</th>\n",
       "      <td>B</td>\n",
       "      <td>alpha</td>\n",
       "      <td>2/21/2017</td>\n",
       "      <td>150</td>\n",
       "      <td>4</td>\n",
       "    </tr>\n",
       "    <tr>\n",
       "      <th>4</th>\n",
       "      <td>B</td>\n",
       "      <td>alpha</td>\n",
       "      <td>2/21/2017</td>\n",
       "      <td>300</td>\n",
       "      <td>5</td>\n",
       "    </tr>\n",
       "  </tbody>\n",
       "</table>\n",
       "</div>"
      ],
      "text/plain": [
       "  key vendor  tran_date  Inv_amt  seqno\n",
       "0   A  alpha  2/21/2017      100      1\n",
       "1   A  alpha  2/21/2017      100      2\n",
       "3   B  alpha  2/21/2017      150      4\n",
       "4   B  alpha  2/21/2017      300      5"
      ]
     },
     "execution_count": 74,
     "metadata": {},
     "output_type": "execute_result"
    }
   ],
   "source": [
    "data[data.duplicated(['key', 'vendor', 'tran_date'], keep = False) ]"
   ]
  },
  {
   "cell_type": "code",
   "execution_count": 12,
   "metadata": {
    "collapsed": false
   },
   "outputs": [],
   "source": [
    "#Now what I want to do is calculate percent difference"
   ]
  },
  {
   "cell_type": "code",
   "execution_count": 75,
   "metadata": {
    "collapsed": false
   },
   "outputs": [
    {
     "data": {
      "text/plain": [
       "0    2/21/2017\n",
       "1    2/21/2017\n",
       "2    2/14/2017\n",
       "3    2/21/2017\n",
       "4    2/21/2017\n",
       "5    1/31/2017\n",
       "Name: tran_date, dtype: object"
      ]
     },
     "execution_count": 75,
     "metadata": {},
     "output_type": "execute_result"
    }
   ],
   "source": [
    "lagdt = data['tran_date']\n",
    "lagdt"
   ]
  },
  {
   "cell_type": "code",
   "execution_count": 76,
   "metadata": {
    "collapsed": false,
    "scrolled": true
   },
   "outputs": [
    {
     "data": {
      "text/html": [
       "<div>\n",
       "<table border=\"1\" class=\"dataframe\">\n",
       "  <thead>\n",
       "    <tr style=\"text-align: right;\">\n",
       "      <th></th>\n",
       "      <th>key</th>\n",
       "      <th>vendor</th>\n",
       "      <th>tran_date</th>\n",
       "      <th>Inv_amt</th>\n",
       "      <th>seqno</th>\n",
       "      <th>lagdt</th>\n",
       "    </tr>\n",
       "  </thead>\n",
       "  <tbody>\n",
       "    <tr>\n",
       "      <th>0</th>\n",
       "      <td>A</td>\n",
       "      <td>alpha</td>\n",
       "      <td>2/21/2017</td>\n",
       "      <td>100</td>\n",
       "      <td>1</td>\n",
       "      <td>NaN</td>\n",
       "    </tr>\n",
       "    <tr>\n",
       "      <th>1</th>\n",
       "      <td>A</td>\n",
       "      <td>alpha</td>\n",
       "      <td>2/21/2017</td>\n",
       "      <td>100</td>\n",
       "      <td>2</td>\n",
       "      <td>2/21/2017</td>\n",
       "    </tr>\n",
       "    <tr>\n",
       "      <th>2</th>\n",
       "      <td>A</td>\n",
       "      <td>alpha</td>\n",
       "      <td>2/14/2017</td>\n",
       "      <td>50</td>\n",
       "      <td>3</td>\n",
       "      <td>2/21/2017</td>\n",
       "    </tr>\n",
       "    <tr>\n",
       "      <th>3</th>\n",
       "      <td>B</td>\n",
       "      <td>alpha</td>\n",
       "      <td>2/21/2017</td>\n",
       "      <td>150</td>\n",
       "      <td>4</td>\n",
       "      <td>2/14/2017</td>\n",
       "    </tr>\n",
       "    <tr>\n",
       "      <th>4</th>\n",
       "      <td>B</td>\n",
       "      <td>alpha</td>\n",
       "      <td>2/21/2017</td>\n",
       "      <td>300</td>\n",
       "      <td>5</td>\n",
       "      <td>2/21/2017</td>\n",
       "    </tr>\n",
       "    <tr>\n",
       "      <th>5</th>\n",
       "      <td>C</td>\n",
       "      <td>alpha</td>\n",
       "      <td>1/31/2017</td>\n",
       "      <td>20</td>\n",
       "      <td>6</td>\n",
       "      <td>2/21/2017</td>\n",
       "    </tr>\n",
       "  </tbody>\n",
       "</table>\n",
       "</div>"
      ],
      "text/plain": [
       "  key vendor  tran_date  Inv_amt  seqno      lagdt\n",
       "0   A  alpha  2/21/2017      100      1        NaN\n",
       "1   A  alpha  2/21/2017      100      2  2/21/2017\n",
       "2   A  alpha  2/14/2017       50      3  2/21/2017\n",
       "3   B  alpha  2/21/2017      150      4  2/14/2017\n",
       "4   B  alpha  2/21/2017      300      5  2/21/2017\n",
       "5   C  alpha  1/31/2017       20      6  2/21/2017"
      ]
     },
     "execution_count": 76,
     "metadata": {},
     "output_type": "execute_result"
    }
   ],
   "source": [
    "data['lagdt'] = lagdt.shift(1, axis = 0)\n",
    "data"
   ]
  },
  {
   "cell_type": "code",
   "execution_count": 83,
   "metadata": {
    "collapsed": false
   },
   "outputs": [
    {
     "data": {
      "text/plain": [
       "0          NaN\n",
       "3    2/14/2017\n",
       "5    2/21/2017\n",
       "Name: lagdt, dtype: object"
      ]
     },
     "execution_count": 83,
     "metadata": {},
     "output_type": "execute_result"
    }
   ],
   "source": [
    "data2 = data.ix[[not i for i in data.duplicated(['key'])], 'lagdt']\n",
    "data2\n"
   ]
  },
  {
   "cell_type": "code",
   "execution_count": 86,
   "metadata": {
    "collapsed": false
   },
   "outputs": [],
   "source": [
    "pd.DataFrame.set_value?"
   ]
  },
  {
   "cell_type": "code",
   "execution_count": 49,
   "metadata": {
    "collapsed": false
   },
   "outputs": [
    {
     "data": {
      "text/html": [
       "<div>\n",
       "<table border=\"1\" class=\"dataframe\">\n",
       "  <thead>\n",
       "    <tr style=\"text-align: right;\">\n",
       "      <th></th>\n",
       "      <th></th>\n",
       "      <th>vendor</th>\n",
       "      <th>tran_date</th>\n",
       "      <th>Inv_amt</th>\n",
       "      <th>lagdt</th>\n",
       "    </tr>\n",
       "    <tr>\n",
       "      <th>key</th>\n",
       "      <th>seqno</th>\n",
       "      <th></th>\n",
       "      <th></th>\n",
       "      <th></th>\n",
       "      <th></th>\n",
       "    </tr>\n",
       "  </thead>\n",
       "  <tbody>\n",
       "    <tr>\n",
       "      <th rowspan=\"3\" valign=\"top\">A</th>\n",
       "      <th>1</th>\n",
       "      <td>alpha</td>\n",
       "      <td>2/21/2017</td>\n",
       "      <td>100</td>\n",
       "      <td>NaN</td>\n",
       "    </tr>\n",
       "    <tr>\n",
       "      <th>2</th>\n",
       "      <td>alpha</td>\n",
       "      <td>2/21/2017</td>\n",
       "      <td>100</td>\n",
       "      <td>2/21/2017</td>\n",
       "    </tr>\n",
       "    <tr>\n",
       "      <th>3</th>\n",
       "      <td>alpha</td>\n",
       "      <td>2/14/2017</td>\n",
       "      <td>50</td>\n",
       "      <td>2/21/2017</td>\n",
       "    </tr>\n",
       "    <tr>\n",
       "      <th rowspan=\"2\" valign=\"top\">B</th>\n",
       "      <th>4</th>\n",
       "      <td>alpha</td>\n",
       "      <td>2/21/2017</td>\n",
       "      <td>150</td>\n",
       "      <td>2/14/2017</td>\n",
       "    </tr>\n",
       "    <tr>\n",
       "      <th>5</th>\n",
       "      <td>alpha</td>\n",
       "      <td>2/21/2017</td>\n",
       "      <td>300</td>\n",
       "      <td>2/21/2017</td>\n",
       "    </tr>\n",
       "    <tr>\n",
       "      <th>C</th>\n",
       "      <th>6</th>\n",
       "      <td>alpha</td>\n",
       "      <td>1/31/2017</td>\n",
       "      <td>20</td>\n",
       "      <td>2/21/2017</td>\n",
       "    </tr>\n",
       "  </tbody>\n",
       "</table>\n",
       "</div>"
      ],
      "text/plain": [
       "          vendor  tran_date  Inv_amt      lagdt\n",
       "key seqno                                      \n",
       "A   1      alpha  2/21/2017      100        NaN\n",
       "    2      alpha  2/21/2017      100  2/21/2017\n",
       "    3      alpha  2/14/2017       50  2/21/2017\n",
       "B   4      alpha  2/21/2017      150  2/14/2017\n",
       "    5      alpha  2/21/2017      300  2/21/2017\n",
       "C   6      alpha  1/31/2017       20  2/21/2017"
      ]
     },
     "execution_count": 49,
     "metadata": {},
     "output_type": "execute_result"
    }
   ],
   "source": [
    "data_n = data.set_index(['key','seqno'])\n",
    "data_n"
   ]
  },
  {
   "cell_type": "code",
   "execution_count": null,
   "metadata": {
    "collapsed": true
   },
   "outputs": [],
   "source": []
  },
  {
   "cell_type": "code",
   "execution_count": 50,
   "metadata": {
    "collapsed": false,
    "scrolled": true
   },
   "outputs": [
    {
     "data": {
      "text/plain": [
       "key\n",
       "A    2/21/2017\n",
       "B    2/14/2017\n",
       "C    2/21/2017\n",
       "Name: lagdt, dtype: object"
      ]
     },
     "execution_count": 50,
     "metadata": {},
     "output_type": "execute_result"
    }
   ],
   "source": [
    "data.groupby('key')['lagdt'].first()"
   ]
  },
  {
   "cell_type": "code",
   "execution_count": 52,
   "metadata": {
    "collapsed": false
   },
   "outputs": [],
   "source": [
    "pd.DataFrame.first?"
   ]
  }
 ],
 "metadata": {
  "kernelspec": {
   "display_name": "Python 3",
   "language": "python",
   "name": "python3"
  },
  "language_info": {
   "codemirror_mode": {
    "name": "ipython",
    "version": 3
   },
   "file_extension": ".py",
   "mimetype": "text/x-python",
   "name": "python",
   "nbconvert_exporter": "python",
   "pygments_lexer": "ipython3",
   "version": "3.5.2"
  }
 },
 "nbformat": 4,
 "nbformat_minor": 0
}
