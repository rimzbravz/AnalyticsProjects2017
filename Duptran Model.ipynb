{
 "cells": [
  {
   "cell_type": "code",
   "execution_count": 105,
   "metadata": {
    "collapsed": false
   },
   "outputs": [],
   "source": [
    "import pandas as pd\n",
    "import numpy as np\n",
    "data = pd.read_csv('C:/Users/ASUS/Documents/Python_Scripts/sampleData.csv', sep = \",\")\n"
   ]
  },
  {
   "cell_type": "code",
   "execution_count": 106,
   "metadata": {
    "collapsed": false
   },
   "outputs": [],
   "source": [
    "data\n",
    "data['tran_date'] = pd.to_datetime(data['tran_date'])"
   ]
  },
  {
   "cell_type": "code",
   "execution_count": 108,
   "metadata": {
    "collapsed": false
   },
   "outputs": [
    {
     "name": "stdout",
     "output_type": "stream",
     "text": [
      "<class 'pandas.core.frame.DataFrame'>\n",
      "RangeIndex: 6 entries, 0 to 5\n",
      "Data columns (total 5 columns):\n",
      "key          6 non-null object\n",
      "vendor       6 non-null object\n",
      "tran_date    6 non-null datetime64[ns]\n",
      "Inv_amt      6 non-null int64\n",
      "seqno        6 non-null int64\n",
      "dtypes: datetime64[ns](1), int64(2), object(2)\n",
      "memory usage: 320.0+ bytes\n"
     ]
    }
   ],
   "source": [
    "data.info()"
   ]
  },
  {
   "cell_type": "code",
   "execution_count": 109,
   "metadata": {
    "collapsed": false,
    "scrolled": true
   },
   "outputs": [
    {
     "data": {
      "text/html": [
       "<div>\n",
       "<table border=\"1\" class=\"dataframe\">\n",
       "  <thead>\n",
       "    <tr style=\"text-align: right;\">\n",
       "      <th></th>\n",
       "      <th>key</th>\n",
       "      <th>vendor</th>\n",
       "      <th>tran_date</th>\n",
       "      <th>Inv_amt</th>\n",
       "      <th>seqno</th>\n",
       "    </tr>\n",
       "  </thead>\n",
       "  <tbody>\n",
       "    <tr>\n",
       "      <th>0</th>\n",
       "      <td>A</td>\n",
       "      <td>alpha</td>\n",
       "      <td>2017-02-21</td>\n",
       "      <td>100</td>\n",
       "      <td>1</td>\n",
       "    </tr>\n",
       "    <tr>\n",
       "      <th>1</th>\n",
       "      <td>A</td>\n",
       "      <td>alpha</td>\n",
       "      <td>2017-02-21</td>\n",
       "      <td>100</td>\n",
       "      <td>2</td>\n",
       "    </tr>\n",
       "    <tr>\n",
       "      <th>3</th>\n",
       "      <td>B</td>\n",
       "      <td>alpha</td>\n",
       "      <td>2017-02-21</td>\n",
       "      <td>150</td>\n",
       "      <td>4</td>\n",
       "    </tr>\n",
       "    <tr>\n",
       "      <th>4</th>\n",
       "      <td>B</td>\n",
       "      <td>alpha</td>\n",
       "      <td>2017-02-21</td>\n",
       "      <td>300</td>\n",
       "      <td>5</td>\n",
       "    </tr>\n",
       "  </tbody>\n",
       "</table>\n",
       "</div>"
      ],
      "text/plain": [
       "  key vendor  tran_date  Inv_amt  seqno\n",
       "0   A  alpha 2017-02-21      100      1\n",
       "1   A  alpha 2017-02-21      100      2\n",
       "3   B  alpha 2017-02-21      150      4\n",
       "4   B  alpha 2017-02-21      300      5"
      ]
     },
     "execution_count": 109,
     "metadata": {},
     "output_type": "execute_result"
    }
   ],
   "source": [
    "data[data.duplicated(['key', 'vendor', 'tran_date'], keep = False) ]"
   ]
  },
  {
   "cell_type": "code",
   "execution_count": 12,
   "metadata": {
    "collapsed": false
   },
   "outputs": [],
   "source": [
    "#Now what I want to do is calculate percent difference"
   ]
  },
  {
   "cell_type": "code",
   "execution_count": 110,
   "metadata": {
    "collapsed": false
   },
   "outputs": [
    {
     "data": {
      "text/plain": [
       "0   2017-02-21\n",
       "1   2017-02-21\n",
       "2   2017-02-14\n",
       "3   2017-02-21\n",
       "4   2017-02-21\n",
       "5   2017-01-31\n",
       "Name: tran_date, dtype: datetime64[ns]"
      ]
     },
     "execution_count": 110,
     "metadata": {},
     "output_type": "execute_result"
    }
   ],
   "source": [
    "lagdt = data['tran_date']\n",
    "lagdt"
   ]
  },
  {
   "cell_type": "code",
   "execution_count": 111,
   "metadata": {
    "collapsed": false,
    "scrolled": true
   },
   "outputs": [
    {
     "data": {
      "text/html": [
       "<div>\n",
       "<table border=\"1\" class=\"dataframe\">\n",
       "  <thead>\n",
       "    <tr style=\"text-align: right;\">\n",
       "      <th></th>\n",
       "      <th>key</th>\n",
       "      <th>vendor</th>\n",
       "      <th>tran_date</th>\n",
       "      <th>Inv_amt</th>\n",
       "      <th>seqno</th>\n",
       "      <th>lagdt</th>\n",
       "    </tr>\n",
       "  </thead>\n",
       "  <tbody>\n",
       "    <tr>\n",
       "      <th>0</th>\n",
       "      <td>A</td>\n",
       "      <td>alpha</td>\n",
       "      <td>2017-02-21</td>\n",
       "      <td>100</td>\n",
       "      <td>1</td>\n",
       "      <td>NaT</td>\n",
       "    </tr>\n",
       "    <tr>\n",
       "      <th>1</th>\n",
       "      <td>A</td>\n",
       "      <td>alpha</td>\n",
       "      <td>2017-02-21</td>\n",
       "      <td>100</td>\n",
       "      <td>2</td>\n",
       "      <td>2017-02-21</td>\n",
       "    </tr>\n",
       "    <tr>\n",
       "      <th>2</th>\n",
       "      <td>A</td>\n",
       "      <td>alpha</td>\n",
       "      <td>2017-02-14</td>\n",
       "      <td>50</td>\n",
       "      <td>3</td>\n",
       "      <td>2017-02-21</td>\n",
       "    </tr>\n",
       "    <tr>\n",
       "      <th>3</th>\n",
       "      <td>B</td>\n",
       "      <td>alpha</td>\n",
       "      <td>2017-02-21</td>\n",
       "      <td>150</td>\n",
       "      <td>4</td>\n",
       "      <td>2017-02-14</td>\n",
       "    </tr>\n",
       "    <tr>\n",
       "      <th>4</th>\n",
       "      <td>B</td>\n",
       "      <td>alpha</td>\n",
       "      <td>2017-02-21</td>\n",
       "      <td>300</td>\n",
       "      <td>5</td>\n",
       "      <td>2017-02-21</td>\n",
       "    </tr>\n",
       "    <tr>\n",
       "      <th>5</th>\n",
       "      <td>C</td>\n",
       "      <td>alpha</td>\n",
       "      <td>2017-01-31</td>\n",
       "      <td>20</td>\n",
       "      <td>6</td>\n",
       "      <td>2017-02-21</td>\n",
       "    </tr>\n",
       "  </tbody>\n",
       "</table>\n",
       "</div>"
      ],
      "text/plain": [
       "  key vendor  tran_date  Inv_amt  seqno      lagdt\n",
       "0   A  alpha 2017-02-21      100      1        NaT\n",
       "1   A  alpha 2017-02-21      100      2 2017-02-21\n",
       "2   A  alpha 2017-02-14       50      3 2017-02-21\n",
       "3   B  alpha 2017-02-21      150      4 2017-02-14\n",
       "4   B  alpha 2017-02-21      300      5 2017-02-21\n",
       "5   C  alpha 2017-01-31       20      6 2017-02-21"
      ]
     },
     "execution_count": 111,
     "metadata": {},
     "output_type": "execute_result"
    }
   ],
   "source": [
    "data['lagdt'] = lagdt.shift(1, axis = 0)\n",
    "data"
   ]
  },
  {
   "cell_type": "code",
   "execution_count": 112,
   "metadata": {
    "collapsed": false
   },
   "outputs": [
    {
     "data": {
      "text/html": [
       "<div>\n",
       "<table border=\"1\" class=\"dataframe\">\n",
       "  <thead>\n",
       "    <tr style=\"text-align: right;\">\n",
       "      <th></th>\n",
       "      <th>key</th>\n",
       "      <th>vendor</th>\n",
       "      <th>tran_date</th>\n",
       "      <th>Inv_amt</th>\n",
       "      <th>seqno</th>\n",
       "      <th>lagdt</th>\n",
       "    </tr>\n",
       "  </thead>\n",
       "  <tbody>\n",
       "    <tr>\n",
       "      <th>0</th>\n",
       "      <td>A</td>\n",
       "      <td>alpha</td>\n",
       "      <td>2017-02-21</td>\n",
       "      <td>100</td>\n",
       "      <td>1</td>\n",
       "      <td>NaT</td>\n",
       "    </tr>\n",
       "    <tr>\n",
       "      <th>1</th>\n",
       "      <td>A</td>\n",
       "      <td>alpha</td>\n",
       "      <td>2017-02-21</td>\n",
       "      <td>100</td>\n",
       "      <td>2</td>\n",
       "      <td>2017-02-21</td>\n",
       "    </tr>\n",
       "    <tr>\n",
       "      <th>2</th>\n",
       "      <td>A</td>\n",
       "      <td>alpha</td>\n",
       "      <td>2017-02-14</td>\n",
       "      <td>50</td>\n",
       "      <td>3</td>\n",
       "      <td>2017-02-21</td>\n",
       "    </tr>\n",
       "    <tr>\n",
       "      <th>3</th>\n",
       "      <td>B</td>\n",
       "      <td>alpha</td>\n",
       "      <td>2017-02-21</td>\n",
       "      <td>150</td>\n",
       "      <td>4</td>\n",
       "      <td>NaT</td>\n",
       "    </tr>\n",
       "    <tr>\n",
       "      <th>4</th>\n",
       "      <td>B</td>\n",
       "      <td>alpha</td>\n",
       "      <td>2017-02-21</td>\n",
       "      <td>300</td>\n",
       "      <td>5</td>\n",
       "      <td>2017-02-21</td>\n",
       "    </tr>\n",
       "    <tr>\n",
       "      <th>5</th>\n",
       "      <td>C</td>\n",
       "      <td>alpha</td>\n",
       "      <td>2017-01-31</td>\n",
       "      <td>20</td>\n",
       "      <td>6</td>\n",
       "      <td>NaT</td>\n",
       "    </tr>\n",
       "  </tbody>\n",
       "</table>\n",
       "</div>"
      ],
      "text/plain": [
       "  key vendor  tran_date  Inv_amt  seqno      lagdt\n",
       "0   A  alpha 2017-02-21      100      1        NaT\n",
       "1   A  alpha 2017-02-21      100      2 2017-02-21\n",
       "2   A  alpha 2017-02-14       50      3 2017-02-21\n",
       "3   B  alpha 2017-02-21      150      4        NaT\n",
       "4   B  alpha 2017-02-21      300      5 2017-02-21\n",
       "5   C  alpha 2017-01-31       20      6        NaT"
      ]
     },
     "execution_count": 112,
     "metadata": {},
     "output_type": "execute_result"
    }
   ],
   "source": [
    "data.loc[[not i for i in data.duplicated(['key'])], 'lagdt'] = np.NAN #use explicit location to access the actual cells\n",
    "data\n"
   ]
  },
  {
   "cell_type": "code",
   "execution_count": 113,
   "metadata": {
    "collapsed": false
   },
   "outputs": [
    {
     "data": {
      "text/html": [
       "<div>\n",
       "<table border=\"1\" class=\"dataframe\">\n",
       "  <thead>\n",
       "    <tr style=\"text-align: right;\">\n",
       "      <th></th>\n",
       "      <th>key</th>\n",
       "      <th>vendor</th>\n",
       "      <th>tran_date</th>\n",
       "      <th>Inv_amt</th>\n",
       "      <th>seqno</th>\n",
       "      <th>lagdt</th>\n",
       "      <th>date_diff</th>\n",
       "    </tr>\n",
       "  </thead>\n",
       "  <tbody>\n",
       "    <tr>\n",
       "      <th>0</th>\n",
       "      <td>A</td>\n",
       "      <td>alpha</td>\n",
       "      <td>2017-02-21</td>\n",
       "      <td>100</td>\n",
       "      <td>1</td>\n",
       "      <td>NaT</td>\n",
       "      <td>NaT</td>\n",
       "    </tr>\n",
       "    <tr>\n",
       "      <th>1</th>\n",
       "      <td>A</td>\n",
       "      <td>alpha</td>\n",
       "      <td>2017-02-21</td>\n",
       "      <td>100</td>\n",
       "      <td>2</td>\n",
       "      <td>2017-02-21</td>\n",
       "      <td>0 days</td>\n",
       "    </tr>\n",
       "    <tr>\n",
       "      <th>2</th>\n",
       "      <td>A</td>\n",
       "      <td>alpha</td>\n",
       "      <td>2017-02-14</td>\n",
       "      <td>50</td>\n",
       "      <td>3</td>\n",
       "      <td>2017-02-21</td>\n",
       "      <td>-7 days</td>\n",
       "    </tr>\n",
       "    <tr>\n",
       "      <th>3</th>\n",
       "      <td>B</td>\n",
       "      <td>alpha</td>\n",
       "      <td>2017-02-21</td>\n",
       "      <td>150</td>\n",
       "      <td>4</td>\n",
       "      <td>NaT</td>\n",
       "      <td>NaT</td>\n",
       "    </tr>\n",
       "    <tr>\n",
       "      <th>4</th>\n",
       "      <td>B</td>\n",
       "      <td>alpha</td>\n",
       "      <td>2017-02-21</td>\n",
       "      <td>300</td>\n",
       "      <td>5</td>\n",
       "      <td>2017-02-21</td>\n",
       "      <td>0 days</td>\n",
       "    </tr>\n",
       "    <tr>\n",
       "      <th>5</th>\n",
       "      <td>C</td>\n",
       "      <td>alpha</td>\n",
       "      <td>2017-01-31</td>\n",
       "      <td>20</td>\n",
       "      <td>6</td>\n",
       "      <td>NaT</td>\n",
       "      <td>NaT</td>\n",
       "    </tr>\n",
       "  </tbody>\n",
       "</table>\n",
       "</div>"
      ],
      "text/plain": [
       "  key vendor  tran_date  Inv_amt  seqno      lagdt  date_diff\n",
       "0   A  alpha 2017-02-21      100      1        NaT        NaT\n",
       "1   A  alpha 2017-02-21      100      2 2017-02-21     0 days\n",
       "2   A  alpha 2017-02-14       50      3 2017-02-21    -7 days\n",
       "3   B  alpha 2017-02-21      150      4        NaT        NaT\n",
       "4   B  alpha 2017-02-21      300      5 2017-02-21     0 days\n",
       "5   C  alpha 2017-01-31       20      6        NaT        NaT"
      ]
     },
     "execution_count": 113,
     "metadata": {},
     "output_type": "execute_result"
    }
   ],
   "source": [
    "data['date_diff'] = data['tran_date'] - data['lagdt']\n",
    "data"
   ]
  },
  {
   "cell_type": "code",
   "execution_count": 114,
   "metadata": {
    "collapsed": true
   },
   "outputs": [],
   "source": [
    "data2 = data #no!!! napapalitan yung orig!"
   ]
  },
  {
   "cell_type": "code",
   "execution_count": 118,
   "metadata": {
    "collapsed": false
   },
   "outputs": [],
   "source": [
    "data2.columns = '_'+data2.columns"
   ]
  },
  {
   "cell_type": "code",
   "execution_count": 125,
   "metadata": {
    "collapsed": false
   },
   "outputs": [
    {
     "data": {
      "text/html": [
       "<div>\n",
       "<table border=\"1\" class=\"dataframe\">\n",
       "  <thead>\n",
       "    <tr style=\"text-align: right;\">\n",
       "      <th></th>\n",
       "      <th>_key</th>\n",
       "      <th>_vendor</th>\n",
       "      <th>_tran_date</th>\n",
       "      <th>_Inv_amt</th>\n",
       "      <th>_seqno</th>\n",
       "      <th>_lagdt</th>\n",
       "      <th>_date_diff</th>\n",
       "    </tr>\n",
       "  </thead>\n",
       "  <tbody>\n",
       "    <tr>\n",
       "      <th>0</th>\n",
       "      <td>A</td>\n",
       "      <td>alpha</td>\n",
       "      <td>2017-02-21 00:00:00</td>\n",
       "      <td>100</td>\n",
       "      <td>1</td>\n",
       "      <td>.</td>\n",
       "      <td>.</td>\n",
       "    </tr>\n",
       "    <tr>\n",
       "      <th>1</th>\n",
       "      <td>A</td>\n",
       "      <td>alpha</td>\n",
       "      <td>2017-02-21 00:00:00</td>\n",
       "      <td>100</td>\n",
       "      <td>2</td>\n",
       "      <td>2017-02-21 00:00:00</td>\n",
       "      <td>0 days 00:00:00</td>\n",
       "    </tr>\n",
       "    <tr>\n",
       "      <th>2</th>\n",
       "      <td>A</td>\n",
       "      <td>alpha</td>\n",
       "      <td>2017-02-14 00:00:00</td>\n",
       "      <td>50</td>\n",
       "      <td>3</td>\n",
       "      <td>2017-02-21 00:00:00</td>\n",
       "      <td>-7 days +00:00:00</td>\n",
       "    </tr>\n",
       "    <tr>\n",
       "      <th>3</th>\n",
       "      <td>B</td>\n",
       "      <td>alpha</td>\n",
       "      <td>2017-02-21 00:00:00</td>\n",
       "      <td>150</td>\n",
       "      <td>4</td>\n",
       "      <td>.</td>\n",
       "      <td>.</td>\n",
       "    </tr>\n",
       "    <tr>\n",
       "      <th>4</th>\n",
       "      <td>B</td>\n",
       "      <td>alpha</td>\n",
       "      <td>2017-02-21 00:00:00</td>\n",
       "      <td>300</td>\n",
       "      <td>5</td>\n",
       "      <td>2017-02-21 00:00:00</td>\n",
       "      <td>0 days 00:00:00</td>\n",
       "    </tr>\n",
       "    <tr>\n",
       "      <th>5</th>\n",
       "      <td>C</td>\n",
       "      <td>alpha</td>\n",
       "      <td>2017-01-31 00:00:00</td>\n",
       "      <td>20</td>\n",
       "      <td>6</td>\n",
       "      <td>.</td>\n",
       "      <td>.</td>\n",
       "    </tr>\n",
       "  </tbody>\n",
       "</table>\n",
       "</div>"
      ],
      "text/plain": [
       "  _key _vendor           _tran_date  _Inv_amt  _seqno               _lagdt  \\\n",
       "0    A   alpha  2017-02-21 00:00:00       100       1                    .   \n",
       "1    A   alpha  2017-02-21 00:00:00       100       2  2017-02-21 00:00:00   \n",
       "2    A   alpha  2017-02-14 00:00:00        50       3  2017-02-21 00:00:00   \n",
       "3    B   alpha  2017-02-21 00:00:00       150       4                    .   \n",
       "4    B   alpha  2017-02-21 00:00:00       300       5  2017-02-21 00:00:00   \n",
       "5    C   alpha  2017-01-31 00:00:00        20       6                    .   \n",
       "\n",
       "          _date_diff  \n",
       "0                  .  \n",
       "1    0 days 00:00:00  \n",
       "2  -7 days +00:00:00  \n",
       "3                  .  \n",
       "4    0 days 00:00:00  \n",
       "5                  .  "
      ]
     },
     "execution_count": 125,
     "metadata": {},
     "output_type": "execute_result"
    }
   ],
   "source": [
    "data2.fillna(\".\")"
   ]
  },
  {
   "cell_type": "code",
   "execution_count": 127,
   "metadata": {
    "collapsed": false
   },
   "outputs": [
    {
     "ename": "TypeError",
     "evalue": "invalid type comparison",
     "output_type": "error",
     "traceback": [
      "\u001b[1;31m---------------------------------------------------------------------------\u001b[0m",
      "\u001b[1;31mTypeError\u001b[0m                                 Traceback (most recent call last)",
      "\u001b[1;32m<ipython-input-127-4a25621a496f>\u001b[0m in \u001b[0;36m<module>\u001b[1;34m()\u001b[0m\n\u001b[1;32m----> 1\u001b[1;33m \u001b[0mdata\u001b[0m\u001b[1;33m[\u001b[0m\u001b[1;33m(\u001b[0m\u001b[0mdata\u001b[0m\u001b[1;33m[\u001b[0m\u001b[1;34m'_date_diff'\u001b[0m\u001b[1;33m]\u001b[0m \u001b[1;33m==\u001b[0m \u001b[1;36m0\u001b[0m\u001b[1;33m)\u001b[0m \u001b[1;33m&\u001b[0m \u001b[1;33m(\u001b[0m\u001b[0mdata\u001b[0m\u001b[1;33m[\u001b[0m\u001b[1;34m'_date_diff'\u001b[0m\u001b[1;33m]\u001b[0m \u001b[1;33m!=\u001b[0m \u001b[1;34m'.'\u001b[0m\u001b[1;33m)\u001b[0m\u001b[1;33m]\u001b[0m\u001b[1;33m\u001b[0m\u001b[0m\n\u001b[0m",
      "\u001b[1;32mC:\\Anaconda3\\lib\\site-packages\\pandas\\core\\ops.py\u001b[0m in \u001b[0;36mwrapper\u001b[1;34m(self, other, axis)\u001b[0m\n\u001b[0;32m    759\u001b[0m                 \u001b[0mother\u001b[0m \u001b[1;33m=\u001b[0m \u001b[0mnp\u001b[0m\u001b[1;33m.\u001b[0m\u001b[0masarray\u001b[0m\u001b[1;33m(\u001b[0m\u001b[0mother\u001b[0m\u001b[1;33m)\u001b[0m\u001b[1;33m\u001b[0m\u001b[0m\n\u001b[0;32m    760\u001b[0m \u001b[1;33m\u001b[0m\u001b[0m\n\u001b[1;32m--> 761\u001b[1;33m             \u001b[0mres\u001b[0m \u001b[1;33m=\u001b[0m \u001b[0mna_op\u001b[0m\u001b[1;33m(\u001b[0m\u001b[0mvalues\u001b[0m\u001b[1;33m,\u001b[0m \u001b[0mother\u001b[0m\u001b[1;33m)\u001b[0m\u001b[1;33m\u001b[0m\u001b[0m\n\u001b[0m\u001b[0;32m    762\u001b[0m             \u001b[1;32mif\u001b[0m \u001b[0misscalar\u001b[0m\u001b[1;33m(\u001b[0m\u001b[0mres\u001b[0m\u001b[1;33m)\u001b[0m\u001b[1;33m:\u001b[0m\u001b[1;33m\u001b[0m\u001b[0m\n\u001b[0;32m    763\u001b[0m                 raise TypeError('Could not compare %s type with Series' %\n",
      "\u001b[1;32mC:\\Anaconda3\\lib\\site-packages\\pandas\\core\\ops.py\u001b[0m in \u001b[0;36mna_op\u001b[1;34m(x, y)\u001b[0m\n\u001b[0;32m    688\u001b[0m             \u001b[1;31m# integer comparisons\u001b[0m\u001b[1;33m\u001b[0m\u001b[1;33m\u001b[0m\u001b[0m\n\u001b[0;32m    689\u001b[0m             \u001b[1;32mif\u001b[0m \u001b[0mis_datetimelike_v_numeric\u001b[0m\u001b[1;33m(\u001b[0m\u001b[0mx\u001b[0m\u001b[1;33m,\u001b[0m \u001b[0my\u001b[0m\u001b[1;33m)\u001b[0m\u001b[1;33m:\u001b[0m\u001b[1;33m\u001b[0m\u001b[0m\n\u001b[1;32m--> 690\u001b[1;33m                 \u001b[1;32mraise\u001b[0m \u001b[0mTypeError\u001b[0m\u001b[1;33m(\u001b[0m\u001b[1;34m\"invalid type comparison\"\u001b[0m\u001b[1;33m)\u001b[0m\u001b[1;33m\u001b[0m\u001b[0m\n\u001b[0m\u001b[0;32m    691\u001b[0m \u001b[1;33m\u001b[0m\u001b[0m\n\u001b[0;32m    692\u001b[0m             \u001b[1;31m# numpy does not like comparisons vs None\u001b[0m\u001b[1;33m\u001b[0m\u001b[1;33m\u001b[0m\u001b[0m\n",
      "\u001b[1;31mTypeError\u001b[0m: invalid type comparison"
     ]
    }
   ],
   "source": [
    "data[(data['_date_diff'] == 0) & (data['_date_diff'] != '.')]\n"
   ]
  },
  {
   "cell_type": "code",
   "execution_count": null,
   "metadata": {
    "collapsed": true
   },
   "outputs": [],
   "source": []
  }
 ],
 "metadata": {
  "kernelspec": {
   "display_name": "Python 3",
   "language": "python",
   "name": "python3"
  },
  "language_info": {
   "codemirror_mode": {
    "name": "ipython",
    "version": 3
   },
   "file_extension": ".py",
   "mimetype": "text/x-python",
   "name": "python",
   "nbconvert_exporter": "python",
   "pygments_lexer": "ipython3",
   "version": "3.5.2"
  }
 },
 "nbformat": 4,
 "nbformat_minor": 0
}
